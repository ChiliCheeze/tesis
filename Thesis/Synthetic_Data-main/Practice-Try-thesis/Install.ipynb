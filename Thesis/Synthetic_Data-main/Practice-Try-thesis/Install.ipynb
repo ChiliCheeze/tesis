{
 "cells": [
  {
   "cell_type": "code",
   "execution_count": 1,
   "id": "6c6ee166-dbb0-4d89-88c4-c9a1b6628d0c",
   "metadata": {},
   "outputs": [
    {
     "name": "stdout",
     "output_type": "stream",
     "text": [
      "Requirement already satisfied: Faker in c:\\users\\computer\\anaconda3\\lib\\site-packages (25.2.0)\n",
      "Requirement already satisfied: python-dateutil>=2.4 in c:\\users\\computer\\anaconda3\\lib\\site-packages (from Faker) (2.8.2)\n",
      "Requirement already satisfied: six>=1.5 in c:\\users\\computer\\anaconda3\\lib\\site-packages (from python-dateutil>=2.4->Faker) (1.16.0)\n",
      "Note: you may need to restart the kernel to use updated packages.\n"
     ]
    }
   ],
   "source": [
    "pip install Faker"
   ]
  },
  {
   "cell_type": "code",
   "execution_count": 5,
   "id": "93b5f9c5-3e11-407b-9798-f80d0bd42276",
   "metadata": {},
   "outputs": [],
   "source": [
    "from faker import Faker\n",
    "import pandas as pd\n",
    "import random "
   ]
  },
  {
   "cell_type": "code",
   "execution_count": 15,
   "id": "08fa7be8-f7cb-4acf-b54b-a024ffe7d4e4",
   "metadata": {},
   "outputs": [
    {
     "ename": "SyntaxError",
     "evalue": "invalid syntax. Perhaps you forgot a comma? (230445039.py, line 6)",
     "output_type": "error",
     "traceback": [
      "\u001b[1;36m  Cell \u001b[1;32mIn[15], line 6\u001b[1;36m\u001b[0m\n\u001b[1;33m    'Respondents' : [fake.name() for i in range(nRespondents)]\u001b[0m\n\u001b[1;37m                    ^\u001b[0m\n\u001b[1;31mSyntaxError\u001b[0m\u001b[1;31m:\u001b[0m invalid syntax. Perhaps you forgot a comma?\n"
     ]
    }
   ],
   "source": [
    "fake = Faker('en_PH')\n",
    "\n",
    "nRespondents = 100\n",
    "\n",
    "data = {\n",
    "    'Respondents' : [fake.name() for i in range(nRespondents)]\n",
    "    'Grade' : [gpa(random.uniform(1.00,3.00)2) for i in range(nRespondents)]\n",
    "}\n",
    "\n",
    "df = pd.DataFrame(data)\n",
    "df"
   ]
  },
  {
   "cell_type": "code",
   "execution_count": null,
   "id": "33feb19b-67e0-4ef1-bbad-e3eb6433a8b1",
   "metadata": {},
   "outputs": [],
   "source": []
  }
 ],
 "metadata": {
  "kernelspec": {
   "display_name": "Python 3 (ipykernel)",
   "language": "python",
   "name": "python3"
  },
  "language_info": {
   "codemirror_mode": {
    "name": "ipython",
    "version": 3
   },
   "file_extension": ".py",
   "mimetype": "text/x-python",
   "name": "python",
   "nbconvert_exporter": "python",
   "pygments_lexer": "ipython3",
   "version": "3.11.7"
  }
 },
 "nbformat": 4,
 "nbformat_minor": 5
}
