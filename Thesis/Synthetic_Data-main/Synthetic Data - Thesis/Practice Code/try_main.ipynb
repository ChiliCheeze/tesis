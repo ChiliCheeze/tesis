{
 "cells": [
  {
   "cell_type": "code",
   "execution_count": 1,
   "metadata": {},
   "outputs": [
    {
     "name": "stdout",
     "output_type": "stream",
     "text": [
      "                Name  Year Student Number\n",
      "0     Michael Thomas     1       24427517\n",
      "1    Michael Mcguire     4       21908695\n",
      "2     Jonathan Smith     4       21620116\n",
      "3       Jaime Phelps     2       23128726\n",
      "4    Nicole Hamilton     3       22926109\n",
      "..               ...   ...            ...\n",
      "234     Cindy Romero     1       24182999\n",
      "235     Emily Miller     4       21598098\n",
      "236    Angel Johnson     2       23369197\n",
      "237   Gregory Martin     1       24832564\n",
      "238    Melinda Hines     3       22922542\n",
      "\n",
      "[239 rows x 3 columns]\n"
     ]
    }
   ],
   "source": [
    "from stdInfo import Student\n",
    "\n",
    "student = Student(239)\n",
    "student_info = student.std_info_dt()\n",
    "print(student_info)"
   ]
  },
  {
   "cell_type": "code",
   "execution_count": 2,
   "metadata": {},
   "outputs": [
    {
     "name": "stdout",
     "output_type": "stream",
     "text": [
      "                Name  Year Student Number  Subject_1  Subject_2  Subject_3  \\\n",
      "0     Michael Thomas     1       24427517       1.00       1.50       2.50   \n",
      "1    Michael Mcguire     4       21908695       2.50       5.00       1.00   \n",
      "2     Jonathan Smith     4       21620116       1.75       5.00       1.00   \n",
      "3       Jaime Phelps     2       23128726       1.75       1.75       1.75   \n",
      "4    Nicole Hamilton     3       22926109       2.25       2.75       1.50   \n",
      "..               ...   ...            ...        ...        ...        ...   \n",
      "234     Cindy Romero     1       24182999       1.00       2.75       1.50   \n",
      "235     Emily Miller     4       21598098       5.00       2.00       2.00   \n",
      "236    Angel Johnson     2       23369197       2.50       1.00       1.50   \n",
      "237   Gregory Martin     1       24832564       5.00       2.75       4.00   \n",
      "238    Melinda Hines     3       22922542       1.50       3.00       3.00   \n",
      "\n",
      "     Subject_4  Subject_5  Subject_6  Subject_7  Subject_8  Final Grade  \\\n",
      "0         1.75       2.25        NaN        NaN        NaN         1.86   \n",
      "1         1.00       1.25        NaN        NaN        NaN         1.44   \n",
      "2         1.50       2.75        NaN        NaN        NaN         1.75   \n",
      "3         2.25       1.00        5.0       5.00       1.75         1.71   \n",
      "4         1.50       1.50        5.0       3.00        NaN         2.08   \n",
      "..         ...        ...        ...        ...        ...          ...   \n",
      "234       4.00       2.50        NaN        NaN        NaN         2.02   \n",
      "235       2.00       1.75        NaN        NaN        NaN         1.94   \n",
      "236       3.00       1.25        4.0       2.75       3.00         2.12   \n",
      "237       1.75       1.25        NaN        NaN        NaN         1.92   \n",
      "238       2.00       1.00        1.5       2.75        NaN         2.11   \n",
      "\n",
      "     Subjects Failed  \n",
      "0                  0  \n",
      "1                  1  \n",
      "2                  1  \n",
      "3                  2  \n",
      "4                  1  \n",
      "..               ...  \n",
      "234                1  \n",
      "235                1  \n",
      "236                1  \n",
      "237                2  \n",
      "238                0  \n",
      "\n",
      "[239 rows x 13 columns]\n"
     ]
    }
   ],
   "source": [
    "from stdGrade import GrdSystem\n",
    "\n",
    "students = GrdSystem(239)\n",
    "student_grades = students.overall_dt_stdGrades()\n",
    "print(student_grades)"
   ]
  },
  {
   "cell_type": "code",
   "execution_count": 4,
   "metadata": {},
   "outputs": [
    {
     "name": "stdout",
     "output_type": "stream",
     "text": [
      "Done\n"
     ]
    }
   ],
   "source": [
    "student_grades.to_csv('tbl_4.csv', index=False)\n",
    "print('Done')"
   ]
  }
 ],
 "metadata": {
  "kernelspec": {
   "display_name": "base",
   "language": "python",
   "name": "python3"
  },
  "language_info": {
   "codemirror_mode": {
    "name": "ipython",
    "version": 3
   },
   "file_extension": ".py",
   "mimetype": "text/x-python",
   "name": "python",
   "nbconvert_exporter": "python",
   "pygments_lexer": "ipython3",
   "version": "3.11.7"
  }
 },
 "nbformat": 4,
 "nbformat_minor": 2
}
