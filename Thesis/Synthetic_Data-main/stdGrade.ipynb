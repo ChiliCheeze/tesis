{
 "cells": [
  {
   "cell_type": "code",
   "execution_count": 1,
   "metadata": {},
   "outputs": [],
   "source": [
    "import random\n",
    "from stdInfo import Student\n",
    "\n",
    "# Inheriting Student attributes for student information \n",
    "class grd_system(Student): \n",
    "    # Identify and define year level curriculum\n",
    "    curriculum = {\n",
    "        1: {\n",
    "            \"subjects\": 5,\n",
    "            \"units\": [2, 3, 3, 3, 3]\n",
    "        },\n",
    "        2: {\n",
    "            \"subjects\": 8,\n",
    "            \"units\": [2, 3, 3, 3, 3, 3, 3, 3]\n",
    "        },\n",
    "        3: {\n",
    "            \"subjects\": 7,\n",
    "            \"units\": [3, 3, 3, 3, 3, 3, 3]\n",
    "        },\n",
    "        4: {\n",
    "            \"subjects\": 5,\n",
    "            \"units\": [3, 3, 3, 3, 3]\n",
    "        }\n",
    "    }\n",
    "    \n",
    "    def __init__(self, name, year):\n",
    "        super().__init__(name, year)\n",
    "        self.grades = self.std_grade()\n",
    "        self.tgp, self.total_units, self.final_grade, self.sub_failed = self.calculate_final_grade()\n",
    "\n",
    "    # Generation of grades \n",
    "    def std_grade(self):\n",
    "        grade_scale = [1.00, 1.25, 1.50, 1.75, 2.00, 2.25, 2.50, 2.75, 3.00, 4.00, 5.00]\n",
    "        std_year_curriculum = self.curriculum[self.year]\n",
    "        grades = [random.choice(grade_scale) for _ in range(std_year_curriculum[\"subjects\"])]\n",
    "        return grades\n",
    "    \n",
    "    # Computation of grades \n",
    "    def calculate_final_grade(self):\n",
    "        std_year_curriculum = grd_system.curriculum[self.year]\n",
    "        tgp = 0  \n",
    "        valid_units = 0  # Valid units that correspond to passing grades\n",
    "        sub_failed = 0  # Track units of failed subjects\n",
    "\n",
    "        for grade, units in zip(self.grades, std_year_curriculum[\"units\"]):\n",
    "            if grade < 4.00:  # Only count valid grades\n",
    "                tgp += grade * units\n",
    "                valid_units += units  # Only count units for passing grades\n",
    "            else:\n",
    "                sub_failed += units  # Track failed subjects\n",
    "\n",
    "        final_grade = tgp / valid_units if valid_units > 0 else \"N/A\"\n",
    "        return round(tgp, 2), valid_units, round(final_grade, 2) if final_grade != \"N/A\" else final_grade, sub_failed\n",
    "\n",
    "    def __str__(self):\n",
    "        return (f\"Student Name: {self.name}, Year Level: {self.year}, \"\n",
    "                f\"Student Number: {self.stdNum}, Grades: {self.grades}, \"\n",
    "                f\"Final Grade: {self.final_grade}, Failed Units: {self.sub_failed}\")\n",
    "\n"
   ]
  },
  {
   "cell_type": "code",
   "execution_count": null,
   "metadata": {},
   "outputs": [],
   "source": []
  },
  {
   "cell_type": "code",
   "execution_count": null,
   "metadata": {},
   "outputs": [],
   "source": []
  }
 ],
 "metadata": {
  "kernelspec": {
   "display_name": "Python 3 (ipykernel)",
   "language": "python",
   "name": "python3"
  },
  "language_info": {
   "codemirror_mode": {
    "name": "ipython",
    "version": 3
   },
   "file_extension": ".py",
   "mimetype": "text/x-python",
   "name": "python",
   "nbconvert_exporter": "python",
   "pygments_lexer": "ipython3",
   "version": "3.11.7"
  }
 },
 "nbformat": 4,
 "nbformat_minor": 4
}
