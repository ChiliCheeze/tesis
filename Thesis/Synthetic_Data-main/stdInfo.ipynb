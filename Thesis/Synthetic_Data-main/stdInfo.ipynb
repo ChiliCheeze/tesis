{
 "cells": [
  {
   "cell_type": "code",
   "execution_count": 1,
   "metadata": {},
   "outputs": [
    {
     "name": "stdout",
     "output_type": "stream",
     "text": [
      "Student Name: Jenny Evans, Year Level: 4, Student Number: 21008926\n"
     ]
    }
   ],
   "source": [
    "from faker import Faker\n",
    "import random\n",
    "\n",
    "#Library for generating synthetic names \n",
    "fake = Faker('en_PH')\n",
    "\n",
    "#List for ramdonly picking year level \n",
    "yrLvl = [1, 2, 3, 4]\n",
    "\n",
    "class Student: \n",
    "    def __init__(self, name, year):\n",
    "        self.name = name\n",
    "        self.year = year \n",
    "        self.stdNum = self.std_gen_num()\n",
    "    \n",
    "\n",
    "    #Function to generate student number that will be connected to the random selected number(yrLvl) \n",
    "    def std_gen_num(self): \n",
    "        #Dictionary for prefixes, what will be that starting number of their student number based on their year level\n",
    "        year_prefix = { \n",
    "            1: \"24\",  # For 1st year\n",
    "            2: \"23\",  # For 2nd year\n",
    "            3: \"22\",  # For 3rd year\n",
    "            4: \"21\"   # For 4th year\n",
    "        }\n",
    "        prefix = year_prefix[self.year]\n",
    "        random_digits = ''.join([str(random.randint(0, 9)) for _ in range(6)])\n",
    "        return prefix + random_digits\n",
    "    \n",
    "    def __str__(self):\n",
    "        return f\"Student Name: {self.name}, Year Level: {self.year}, Student Number: {self.stdNum}\"\n"
   ]
  },
  {
   "cell_type": "code",
   "execution_count": null,
   "metadata": {},
   "outputs": [],
   "source": []
  }
 ],
 "metadata": {
  "kernelspec": {
   "display_name": "Python 3 (ipykernel)",
   "language": "python",
   "name": "python3"
  },
  "language_info": {
   "codemirror_mode": {
    "name": "ipython",
    "version": 3
   },
   "file_extension": ".py",
   "mimetype": "text/x-python",
   "name": "python",
   "nbconvert_exporter": "python",
   "pygments_lexer": "ipython3",
   "version": "3.11.7"
  }
 },
 "nbformat": 4,
 "nbformat_minor": 4
}
